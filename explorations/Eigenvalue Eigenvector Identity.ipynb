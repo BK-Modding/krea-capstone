{
 "cells": [
  {
   "cell_type": "code",
   "execution_count": 1,
   "id": "fc3891be",
   "metadata": {},
   "outputs": [
    {
     "name": "stdout",
     "output_type": "stream",
     "text": [
      "Eigenvalue: -3.3306690738754696e-16\n",
      "Eigenvector mod squares: [0.66666667 0.16666667 0.16666667]\n",
      "====================\n",
      "Eigenvalue: 2.9999999999999996\n",
      "Eigenvector mod squares: [0.33333333 0.33333333 0.33333333]\n",
      "====================\n",
      "Eigenvalue: 4.0\n",
      "Eigenvector mod squares: [0.  0.5 0.5]\n",
      "====================\n"
     ]
    }
   ],
   "source": [
    "import numpy as np\n",
    "\n",
    "A = np.array([[1, 1, -1], [1, 3, 1], [-1, 1, 3]])\n",
    "eigvals = np.linalg.eigvalsh(A)\n",
    "\n",
    "def minor(arr,i,j):\n",
    "    # ith row, jth column removed\n",
    "    return arr[np.array(list(range(i))+list(range(i+1,arr.shape[0])))[:,np.newaxis],\n",
    "               np.array(list(range(j))+list(range(j+1,arr.shape[1])))]\n",
    "\n",
    "for eigval in eigvals:\n",
    "    eigvec_mod_squares = np.array([])\n",
    "    \n",
    "    denominator = 1 # can move this piece of code outside this for loop\n",
    "    for eigval2 in eigvals:\n",
    "        if eigval != eigval2:\n",
    "            denominator *= (eigval - eigval2)\n",
    "\n",
    "    for j in range(len(A)):\n",
    "        M = minor(A, j, j)\n",
    "        M_eigvals = np.linalg.eigvalsh(M)\n",
    "        \n",
    "        numerator = 1\n",
    "        for m_eigval in M_eigvals:\n",
    "            numerator *= (eigval - m_eigval)\n",
    "        \n",
    "        term = numerator/denominator\n",
    "        eigvec_mod_squares = np.append(eigvec_mod_squares, term)\n",
    "        # eigvec_mod_squares.append(term)\n",
    "    \n",
    "    print(\"Eigenvalue:\", eigval)\n",
    "    print(\"Eigenvector mod squares:\", eigvec_mod_squares)\n",
    "    print(\"=\" * 20)"
   ]
  },
  {
   "cell_type": "code",
   "execution_count": null,
   "id": "ff8fd40c",
   "metadata": {},
   "outputs": [],
   "source": []
  }
 ],
 "metadata": {
  "kernelspec": {
   "display_name": "Python 3 (ipykernel)",
   "language": "python",
   "name": "python3"
  },
  "language_info": {
   "codemirror_mode": {
    "name": "ipython",
    "version": 3
   },
   "file_extension": ".py",
   "mimetype": "text/x-python",
   "name": "python",
   "nbconvert_exporter": "python",
   "pygments_lexer": "ipython3",
   "version": "3.9.12"
  }
 },
 "nbformat": 4,
 "nbformat_minor": 5
}
